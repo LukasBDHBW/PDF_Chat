{
 "cells": [
  {
   "cell_type": "code",
   "execution_count": 47,
   "metadata": {},
   "outputs": [],
   "source": [
    "import pandas as pd\n",
    "import random\n",
    "import openai\n",
    "import streamlit as st"
   ]
  },
  {
   "cell_type": "code",
   "execution_count": 48,
   "metadata": {},
   "outputs": [],
   "source": [
    "open_api = st.secrets['API_TOKEN']['openai_api']\n",
    "openai.api_key = open_api"
   ]
  },
  {
   "cell_type": "code",
   "execution_count": 58,
   "metadata": {},
   "outputs": [],
   "source": [
    "context=\"Ich werde dir jetzt Zeitungsartikel aus Österreich schicken die du Klassifizieren sollst, dabei sind die Kategorien:[Web, Panorama, International, Wirtschaft, Sport, Inland, Etat, Wissenschaft, Kultur]. Antworte jeweils nur mit der zugehörigen Kategorie.\""
   ]
  },
  {
   "cell_type": "code",
   "execution_count": 59,
   "metadata": {},
   "outputs": [],
   "source": [
    "def generate_gpt_response(prompt_input):\n",
    "    messages=[{f\"role\": \"system\", \"content\": context}]\n",
    "    if messages[-1][\"role\"] == \"system\" or messages[-1][\"role\"] == \"assistant\":\n",
    "        messages.append({\"role\": \"user\", \"content\": prompt_input})\n",
    "    response = openai.ChatCompletion.create(\n",
    "    model=\"gpt-3.5-turbo\",\n",
    "    messages=messages)\n",
    "    return response[\"choices\"][0][\"message\"][\"content\"]"
   ]
  },
  {
   "cell_type": "code",
   "execution_count": null,
   "metadata": {},
   "outputs": [],
   "source": [
    "df = pd.read_csv('../../Datensätze Text Class/test.csv', delimiter=';', usecols=[0, 1])\n",
    "\n"
   ]
  },
  {
   "cell_type": "code",
   "execution_count": 60,
   "metadata": {},
   "outputs": [
    {
     "name": "stdout",
     "output_type": "stream",
     "text": [
      "Class = Sport, Responce = Sport\n",
      "Class = Inland, Responce = Inland\n",
      "Class = Etat, Responce = Kategorie: Kultur\n",
      "Class = Web, Responce = Web\n",
      "Class = Panorama, Responce = Inland\n",
      "Class = International, Responce = International\n",
      "Class = Kultur, Responce = Kultur\n",
      "Class = Wirtschaft, Responce = Wirtschaft\n",
      "Class = Wissenschaft, Responce = Wissenschaft\n"
     ]
    }
   ],
   "source": [
    "# Mischen des DataFrames\n",
    "shuffled_df = subset_df.sample(frac=1, random_state=random.seed()).reset_index(drop=True)\n",
    "TP = 0\n",
    "Ges = len(shuffled_df)\n",
    "# Iterieren über die \"Text\"-Spalte und Drucken jedes Eintrags\n",
    "for index,text_entry in enumerate(shuffled_df['Text']):\n",
    "    cat = shuffled_df[\"Kategorie\"].iloc[index]\n",
    "    responce = generate_gpt_response(text_entry)\n",
    "    print(f\"Class = {cat}, Responce = {responce}\")\n",
    "    if cat == responce:\n",
    "        TP+=1\n",
    "Acc = TP/Ges"
   ]
  },
  {
   "cell_type": "code",
   "execution_count": 61,
   "metadata": {},
   "outputs": [
    {
     "data": {
      "text/plain": [
       "0.7777777777777778"
      ]
     },
     "execution_count": 61,
     "metadata": {},
     "output_type": "execute_result"
    }
   ],
   "source": [
    "Acc"
   ]
  }
 ],
 "metadata": {
  "kernelspec": {
   "display_name": "DTC",
   "language": "python",
   "name": "python3"
  },
  "language_info": {
   "codemirror_mode": {
    "name": "ipython",
    "version": 3
   },
   "file_extension": ".py",
   "mimetype": "text/x-python",
   "name": "python",
   "nbconvert_exporter": "python",
   "pygments_lexer": "ipython3",
   "version": "3.10.12"
  },
  "orig_nbformat": 4
 },
 "nbformat": 4,
 "nbformat_minor": 2
}
