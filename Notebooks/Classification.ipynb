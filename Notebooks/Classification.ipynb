{
 "cells": [
  {
   "cell_type": "markdown",
   "metadata": {},
   "source": [
    "# Klassifikation von Spam Mails und E-Maildaten\n"
   ]
  },
  {
   "cell_type": "markdown",
   "metadata": {},
   "source": [
    "### Imports"
   ]
  },
  {
   "cell_type": "code",
   "execution_count": 1,
   "metadata": {},
   "outputs": [],
   "source": [
    "import pandas as pd\n",
    "import openai\n",
    "import time\n",
    "import replicate\n",
    "import os\n",
    "import tiktoken\n",
    "import toml"
   ]
  },
  {
   "cell_type": "markdown",
   "metadata": {},
   "source": [
    "### Tokens und Kosten"
   ]
  },
  {
   "cell_type": "code",
   "execution_count": 2,
   "metadata": {},
   "outputs": [],
   "source": [
    "def num_tokens_from_string(string: str, encoding_name: str) -> int:\n",
    "    encoding = tiktoken.encoding_for_model(encoding_name)\n",
    "    num_tokens = len(encoding.encode(string))\n",
    "    return num_tokens\n"
   ]
  },
  {
   "cell_type": "code",
   "execution_count": 3,
   "metadata": {},
   "outputs": [],
   "source": [
    "def kostenrechner(anzahl_input,anzahl_output):\n",
    "    if llm == 'gpt-4':\n",
    "        kosten = ((0.03/1000)*anzahl_input)+((0.06/1000)*anzahl_output)\n",
    "    elif llm == 'gpt-3.5-turbo':\n",
    "        kosten = ((0.0015/1000)*anzahl_input)+((0.002/1000)*anzahl_output)\n",
    "    elif llm == 'replicate/llama70b-v2-chat:e951f18578850b652510200860fc4ea62b3b16fac280f83ff32282f87bbd2e48':        \n",
    "        kosten = elapsed_time_ges*(0.001400)\n",
    "    return kosten"
   ]
  },
  {
   "cell_type": "markdown",
   "metadata": {},
   "source": [
    "### Keys "
   ]
  },
  {
   "cell_type": "code",
   "execution_count": 4,
   "metadata": {},
   "outputs": [],
   "source": [
    "# Laden Sie die .toml-Datei\n",
    "data = toml.load(\"../.streamlit/secrets.toml\")\n",
    "\n",
    "# Werte auslesen\n",
    "replicate_api_token = data[\"API_TOKEN\"][\"replicate_api_token\"]\n",
    "os.environ['REPLICATE_API_TOKEN'] = replicate_api_token\n",
    "openai_api = data[\"API_TOKEN\"][\"openai_api\"]\n",
    "openai.api_key = openai_api\n"
   ]
  },
  {
   "cell_type": "code",
   "execution_count": 5,
   "metadata": {},
   "outputs": [],
   "source": [
    "llm='gpt-3.5-turbo' #gpt-3.5-turbo, gpt-4, replicate/llama70b-v2-chat:e951f18578850b652510200860fc4ea62b3b16fac280f83ff32282f87bbd2e48"
   ]
  },
  {
   "cell_type": "markdown",
   "metadata": {},
   "source": [
    "### promt generierung"
   ]
  },
  {
   "cell_type": "code",
   "execution_count": 6,
   "metadata": {},
   "outputs": [],
   "source": [
    "def generate_gpt_response(prompt_input):\n",
    "    messages=[{f\"role\": \"system\", \"content\": context}]\n",
    "    messages.append({\"role\": \"user\", \"content\": prompt_input})\n",
    "    if 'gpt' in llm:\n",
    "        response = openai.ChatCompletion.create(model=llm, messages=messages)\n",
    "        full_response = response[\"choices\"][0][\"message\"][\"content\"]\n",
    "    else:\n",
    "        response = replicate.run(llm, \n",
    "                           input={\"prompt\": \"You are a helpful assistant. You do not respond as 'User' or pretend to be 'User'. You only respond once as 'Assistant'. \"+ context + prompt_input +\" Assistant: \",\n",
    "                                  \"temperature\":0.1, \"top_p\":0.9, \"max_length\":4097, \"repetition_penalty\":1})\n",
    "        full_response = ''\n",
    "        for item in response:\n",
    "            full_response += item\n",
    "    return full_response"
   ]
  },
  {
   "cell_type": "markdown",
   "metadata": {},
   "source": [
    "### Substet"
   ]
  },
  {
   "cell_type": "code",
   "execution_count": 7,
   "metadata": {},
   "outputs": [],
   "source": [
    "def subset(df,  anzahl, cat_label):\n",
    "    # Liste zum Speichern der ausgewählten DataFrames\n",
    "    dfs = []\n",
    "    # Gruppieren nach 'Kategorie' und nehmen von 5 Stichproben für jede Gruppe\n",
    "    for name, group in df.groupby(cat_label):\n",
    "        dfs.append(group.sample(min(len(group), anzahl)))\n",
    "\n",
    "    # Kombinieren aller gesammelten DataFrames\n",
    "    con_df = pd.concat(dfs)\n",
    "    \n",
    "    return con_df.reset_index(drop=True)"
   ]
  },
  {
   "cell_type": "markdown",
   "metadata": {},
   "source": [
    "### Test News"
   ]
  },
  {
   "cell_type": "code",
   "execution_count": 8,
   "metadata": {},
   "outputs": [],
   "source": [
    "context=\"I will send you titles of newspaper articles in English now, which you should classify. The categories are: [BUSINESS, ENTERTAINMENT, HEALTH, NATION, SCIENCE, SPORTS, TECHNOLOGY, WORLD]. Always respond with the respective category. Your answer should only be one word. \\n The Title starts here:\""
   ]
  },
  {
   "cell_type": "code",
   "execution_count": 9,
   "metadata": {},
   "outputs": [],
   "source": [
    "df = pd.read_csv('../Data/labelled_newscatcher_dataset.csv', delimiter=';')\n",
    "df = df.iloc[:, [0, 4]]\n"
   ]
  },
  {
   "cell_type": "code",
   "execution_count": 10,
   "metadata": {},
   "outputs": [],
   "source": [
    "subset_df = subset(df,20, \"topic\")\n"
   ]
  },
  {
   "cell_type": "code",
   "execution_count": 11,
   "metadata": {},
   "outputs": [
    {
     "name": "stdout",
     "output_type": "stream",
     "text": [
      "Class = BUSINESS, Responce = BUSINESS, Text = If Microsoft buys TikTok, it could be bad news for Google Cloud\n",
      "Class = BUSINESS, Responce = BUSINESS, Text = Twitter, TikTok held preliminary talks about potential combination: WSJ\n",
      "Class = BUSINESS, Responce = TECHNOLOGY, Text = World Food Packaging Robotics Market Outlook 2020-2024 - Global Market Forecast to Grow by $ 813.02 Million During 2020-2024\n",
      "Class = BUSINESS, Responce = BUSINESS, Text = Lead Acid Battery for Energy Storage Market to Hit $9.73 Bn by 2027; Escalating Demand for Efficient Energy Storage Systems Worldwide to Feed Market Growth: Fortune Business Insights™\n",
      "Class = BUSINESS, Responce = BUSINESS, Text = Uber CEO says service faces temporary shutdown in California over worker reclassification ruling\n",
      "Class = BUSINESS, Responce = BUSINESS, Text = Global Anti-money Laundering Software Market Size, Share of the Industry Worldwide In 2019, By Country\n",
      "Class = BUSINESS, Responce = HEALTH, Text = Travel news: Two more cruise lines discover cases of Covid-19\n",
      "Class = BUSINESS, Responce = BUSINESS, Text = NSE-BSE bulk deals: Promoter Bandhan Financial sells nearly 21% in Bandhan Bank; Munich Re sells stake in Apollo Hospitals\n",
      "Class = BUSINESS, Responce = BUSINESS, Text = After months of haggling, Lockheed moves on German air defense bid\n",
      "Class = BUSINESS, Responce = BUSINESS, Text = CEO who made one of Silicon Valley’s worst acquisitions wants in on record-breaking blank-check boom\n",
      "Class = BUSINESS, Responce = BUSINESS, Text = Abaca (Musa Textilis Nee) Market Research Report Analysis And Forecasts To 2026\n",
      "Class = BUSINESS, Responce = BUSINESS, Text = UPDATE 1-German bond yields reverse earlier rise in subdued trade\n",
      "Class = BUSINESS, Responce = TECHNOLOGY, Text = Robotic Polishing System Market Analysis, Revenue, Price, Market Share, Growth Rate, Forecast To 2026\n",
      "Class = BUSINESS, Responce = BUSINESS, Text = Malaysia Readies Steps for Orderly Stock Market on Record Volume\n",
      "Class = BUSINESS, Responce = BUSINESS, Text = Gartner Inc (IT) Q2 2020 Earnings Call Transcript\n",
      "Class = BUSINESS, Responce = BUSINESS, Text = Will there be a recession in the UK and how could it affect me?\n",
      "Class = BUSINESS, Responce = BUSINESS, Text = Global Construction Robotics Market Report to Examine Manufacturing Cost Analysis, Marketing Channel, Distributors and Customers\n",
      "Class = BUSINESS, Responce = TECHNOLOGY, Text = 2021 Hyundai 45 electric car: price, specs and release date\n",
      "Class = BUSINESS, Responce = BUSINESS, Text = Turkey’s Lira Hits Record Low as Interventions Fail to Stem Drop\n",
      "Class = BUSINESS, Responce = BUSINESS, Text = Why India has become a key battleground for Amazon and Microsoft\n",
      "Class = ENTERTAINMENT, Responce = ENTERTAINMENT, Text = WWE Reveals THUNDERDOME Virtual Fan Experience & How To Sign Up\n",
      "Class = ENTERTAINMENT, Responce = ENTERTAINMENT, Text = Andrew Lloyd Webber Puts His Money Where His Mouth Is\n",
      "Class = ENTERTAINMENT, Responce = ENTERTAINMENT, Text = Ram Gopal Varma shares first look of “Arnab The News Prostitute”\n",
      "Class = ENTERTAINMENT, Responce = ENTERTAINMENT, Text = Tia Mowry Just Shared a Gorgeous Gray Hair Selfie: \"This Is Me. 42\"\n",
      "Class = ENTERTAINMENT, Responce = ENTERTAINMENT, Text = Madhuri Dixit Shares Hum Aapke Hain Koun Memory With Salman Khan As The Film Clocks 26 Years\n",
      "Class = ENTERTAINMENT, Responce = HEALTH, Text = SPB Charan's latest official update on SP Balasubrahmaniam's health condition - Tamil News\n",
      "Class = ENTERTAINMENT, Responce = ENTERTAINMENT, Text = Coronation Street spoilers: Geoff exit drama, horror violence and wedding split\n",
      "Class = ENTERTAINMENT, Responce = BUSINESS, Text = 9mobile’s customers to enjoy more call minutes, data on Moreflex-plus Package\n",
      "Class = ENTERTAINMENT, Responce = ENTERTAINMENT, Text = Photos: Nigerians Mock Cameroonians As Photos Of Their Own BigBrother Show Emerges\n",
      "Class = ENTERTAINMENT, Responce = ENTERTAINMENT, Text = Netflixs Masaba Masaba, The Devil All The Time, Vir Das Inside Out: Trailers this week\n",
      "Class = ENTERTAINMENT, Responce = ENTERTAINMENT, Text = Release Roundup: Sneakers You Need to Check Out This Weekend\n",
      "Class = ENTERTAINMENT, Responce = ENTERTAINMENT, Text = Vicky Kaushal shares a picture of himself flying like a superhero, says 'Ki karaa, petrol khatam hi nahi\n",
      "Class = ENTERTAINMENT, Responce = ENTERTAINMENT, Text = Kunal Kemmu On Kareena Kapoor's Second Pregnancy: \"Taimur And Inaaya Will Have A New Gang Member\"\n",
      "Class = ENTERTAINMENT, Responce = ENTERTAINMENT, Text = Orlando Bloom excited to have 'daddy's girl' Entertainment\n",
      "Class = ENTERTAINMENT, Responce = ENTERTAINMENT, Text = Rihanna Preggers - See Who The Baby Papa Is\n",
      "Class = ENTERTAINMENT, Responce = ENTERTAINMENT, Text = Anand Mahindra watches this delightful video every year before Independence Day. Twitter loves it\n",
      "Class = ENTERTAINMENT, Responce = ENTERTAINMENT, Text = Howard Stern Advice To Ellen DeGeneres As Worker Allegations Continue\n",
      "Class = ENTERTAINMENT, Responce = ENTERTAINMENT, Text = Sky News host Sarah-Jane Mee calls baby girl Rae Brenda after being inspired by rainbows in lockdown\n",
      "Class = ENTERTAINMENT, Responce = ENTERTAINMENT, Text = ‘Captain Marvel 2’: ‘Candyman’ Director Nia DaCosta to Helm Sequel\n",
      "Class = ENTERTAINMENT, Responce = ENTERTAINMENT, Text = From Project Power to Pinocchio - this week's movie reviews\n",
      "Class = HEALTH, Responce = HEALTH, Text = Covid-19 outbreak recorded at Dublin crèche - Dublin's FM104\n",
      "Class = HEALTH, Responce = WORLD, Text = India’s Virus Death Toll Becomes the World’s Fourth Largest, Topping U.K.\n",
      "Class = HEALTH, Responce = HEALTH, Text = U.S. coronavirus death toll hits 170000 ahead of fall flu season\n",
      "Class = HEALTH, Responce = HEALTH, Text = Experimental Covid-19 vax prevents severe disease in mice\n",
      "Class = HEALTH, Responce = HEALTH, Text = Diabetes And FastingGuardian Life\n",
      "Class = HEALTH, Responce = HEALTH, Text = As COVID-19 cases rise in U.S., precious plasma donations lag\n",
      "Class = HEALTH, Responce = HEALTH, Text = Latest weekly Covid-19 rates for Hampshire\n",
      "Class = HEALTH, Responce = HEALTH, Text = Coronavirus - Rwanda: WHO Director-General's opening remarks at the media briefing on COVID-19 (10 August 2020)\n",
      "Class = HEALTH, Responce = HEALTH, Text = The Good News the Media and Our Health Experts™ Are Hiding About COVID-19\n",
      "Class = HEALTH, Responce = HEALTH, Text = Alberta teachers urged to get tested for COVID-19 ahead of school reopenings | Watch News Videos Online\n"
     ]
    }
   ],
   "source": [
    "TP = 0\n",
    "Ges = len(subset_df)\n",
    "ges_len_input = 0\n",
    "ges_len_responce = 0\n",
    "elapsed_time_ges = 0\n",
    "# Iterieren über die \"Text\"-Spalte und Drucken jedes Eintrags\n",
    "for index,text_entry in enumerate(subset_df['title']):\n",
    "    cat = subset_df[\"topic\"].iloc[index]\n",
    "    if 'gpt'in llm:\n",
    "        len_input = num_tokens_from_string(text_entry, llm)\n",
    "        ges_len_input += len_input\n",
    "    else:\n",
    "        ges_len_responce = 0\n",
    "    #ausführung Modell + Zeitstoppen\n",
    "    start_time = time.time()\n",
    "    responce = generate_gpt_response(text_entry)\n",
    "    end_time = time.time()\n",
    "    elapsed_time = end_time - start_time\n",
    "    elapsed_time_ges += elapsed_time\n",
    "    if 'gpt'in llm:\n",
    "        len_output_tokens = num_tokens_from_string(responce, llm)\n",
    "        ges_len_responce += len_output_tokens\n",
    "    else:\n",
    "        ges_len_responce = 0\n",
    "    print(f\"Class = {cat}, Responce = {responce}, Text = {text_entry}\")\n",
    "    if cat == responce:\n",
    "        TP+=1\n",
    "Acc = TP/Ges\n",
    "kosten = kostenrechner(ges_len_input, ges_len_responce)\n",
    "print(f\"The accuracy of the model is: {Acc} and cost: {kosten} and execution time: {elapsed_time_ges}\")\n"
   ]
  },
  {
   "cell_type": "markdown",
   "metadata": {},
   "source": [
    "### Test Spam"
   ]
  },
  {
   "cell_type": "code",
   "execution_count": null,
   "metadata": {},
   "outputs": [],
   "source": [
    "\n",
    "\n",
    "context=\"Please identify the content that follows the word 'Subject' as either harmless or spam. Reply with 'ham' for harmless and 'spam' for spam. Your answer should only be one word.\""
   ]
  },
  {
   "cell_type": "code",
   "execution_count": null,
   "metadata": {},
   "outputs": [],
   "source": [
    "df_spam = pd.read_csv('../Data/spam_ham_dataset.csv', sep = \",\")\n",
    "\n",
    "df_spam=df_spam[[\"label\",\"text\"]]\n"
   ]
  },
  {
   "cell_type": "code",
   "execution_count": null,
   "metadata": {},
   "outputs": [],
   "source": [
    "df_spam"
   ]
  },
  {
   "cell_type": "code",
   "execution_count": null,
   "metadata": {},
   "outputs": [],
   "source": [
    "df_spam_subset = subset(df_spam, 10,\"label\")"
   ]
  },
  {
   "cell_type": "code",
   "execution_count": null,
   "metadata": {},
   "outputs": [],
   "source": [
    "df_spam_subset"
   ]
  },
  {
   "cell_type": "code",
   "execution_count": null,
   "metadata": {},
   "outputs": [],
   "source": [
    "TP = 0\n",
    "Ges = len(df_spam_subset)\n",
    "ges_len_input = 0\n",
    "ges_len_responce = 0\n",
    "elapsed_time_ges = 0\n",
    "# Iterieren über die \"Text\"-Spalte und Drucken jedes Eintrags\n",
    "for index,text_entry in enumerate(df_spam_subset['text']):\n",
    "    if 'gpt'in llm:\n",
    "        len_input = num_tokens_from_string(text_entry, llm)\n",
    "        ges_len_input += len_input\n",
    "    else:\n",
    "        len_input = num_tokens_from_string(text_entry, \"gpt-3.5-turbo\")\n",
    "        ges_len_responce = 0\n",
    "    if len_input>4097:\n",
    "        text_entry = text_entry[:-int((1-((4097/len_input)-0.05))*len(text_entry))]\n",
    "\n",
    "    cat = df_spam_subset[\"label\"].iloc[index]\n",
    "    #ausführung Modell + Zeitstoppen\n",
    "    start_time = time.time()\n",
    "    responce = generate_gpt_response(text_entry)\n",
    "    end_time = time.time()\n",
    "    elapsed_time = end_time - start_time\n",
    "    elapsed_time_ges += elapsed_time\n",
    "\n",
    "    if 'gpt'in llm:\n",
    "        len_output_tokens = num_tokens_from_string(responce, llm)\n",
    "        ges_len_responce += len_output_tokens\n",
    "    else:\n",
    "        ges_len_responce = 0\n",
    "    print(f\"Class = {cat}, Responce = {responce}\")\n",
    "    if cat == responce:\n",
    "        TP+=1\n",
    "kosten = kostenrechner(ges_len_input, ges_len_responce)\n",
    "Acc = TP/Ges\n",
    "print(f\"The accuracy of the model is: {Acc} and cost: {kosten} and execution time: {elapsed_time_ges}\")\n"
   ]
  },
  {
   "cell_type": "code",
   "execution_count": null,
   "metadata": {},
   "outputs": [],
   "source": [
    "# Liste zum Speichern der ausgewählten DataFrames\n",
    "dfs = []\n",
    "\n",
    "# Gruppieren nach 'Kategorie' und nehmen von 5 Stichproben für jede Gruppe\n",
    "for name, group in df_spam.groupby('Kategorie'):\n",
    "    dfs.append(group.sample(min(len(group), 5)))\n",
    "\n",
    "# Kombinieren aller gesammelten DataFrames\n",
    "subset_spam_df = pd.concat(dfs)"
   ]
  }
 ],
 "metadata": {
  "kernelspec": {
   "display_name": "DTC",
   "language": "python",
   "name": "python3"
  },
  "language_info": {
   "codemirror_mode": {
    "name": "ipython",
    "version": 3
   },
   "file_extension": ".py",
   "mimetype": "text/x-python",
   "name": "python",
   "nbconvert_exporter": "python",
   "pygments_lexer": "ipython3",
   "version": "3.10.13"
  },
  "orig_nbformat": 4
 },
 "nbformat": 4,
 "nbformat_minor": 2
}
