{
 "cells": [
  {
   "cell_type": "markdown",
   "metadata": {},
   "source": [
    "# Klassifikation von Spam Mails und E-Maildaten\n"
   ]
  },
  {
   "cell_type": "markdown",
   "metadata": {},
   "source": [
    "### Imports"
   ]
  },
  {
   "cell_type": "code",
   "execution_count": 1,
   "metadata": {},
   "outputs": [],
   "source": [
    "import pandas as pd\n",
    "import openai\n",
    "import time\n",
    "import replicate\n",
    "import os\n",
    "import tiktoken\n",
    "import toml"
   ]
  },
  {
   "cell_type": "markdown",
   "metadata": {},
   "source": [
    "### Tokens und Kosten"
   ]
  },
  {
   "cell_type": "code",
   "execution_count": 2,
   "metadata": {},
   "outputs": [],
   "source": [
    "def num_tokens_from_string(string: str, encoding_name: str) -> int:\n",
    "    encoding = tiktoken.encoding_for_model(encoding_name)\n",
    "    num_tokens = len(encoding.encode(string))\n",
    "    return num_tokens\n"
   ]
  },
  {
   "cell_type": "code",
   "execution_count": 3,
   "metadata": {},
   "outputs": [],
   "source": [
    "def kostenrechner(anzahl_input,anzahl_output):\n",
    "    if llm == 'gpt-4':\n",
    "        kosten = ((0.03/1000)*anzahl_input)+((0.06/1000)*anzahl_output)\n",
    "    elif llm == 'gpt-3.5-turbo':\n",
    "        kosten = ((0.0015/1000)*anzahl_input)+((0.002/1000)*anzahl_output)\n",
    "    elif llm == 'replicate/llama70b-v2-chat:e951f18578850b652510200860fc4ea62b3b16fac280f83ff32282f87bbd2e48':        \n",
    "        kosten = elapsed_time_ges*(0.001400)\n",
    "    return kosten"
   ]
  },
  {
   "cell_type": "markdown",
   "metadata": {},
   "source": [
    "### Keys "
   ]
  },
  {
   "cell_type": "code",
   "execution_count": 4,
   "metadata": {},
   "outputs": [],
   "source": [
    "# Laden Sie die .toml-Datei\n",
    "data = toml.load(\"../.streamlit/secrets.toml\")\n",
    "\n",
    "# Werte auslesen\n",
    "replicate_api_token = data[\"API_TOKEN\"][\"replicate_api_token\"]\n",
    "os.environ['REPLICATE_API_TOKEN'] = replicate_api_token\n",
    "openai_api = data[\"API_TOKEN\"][\"openai_api\"]\n",
    "openai.api_key = openai_api\n"
   ]
  },
  {
   "cell_type": "code",
   "execution_count": 5,
   "metadata": {},
   "outputs": [],
   "source": [
    "llm='gpt-3.5-turbo' #gpt-3.5-turbo, gpt-4, replicate/llama70b-v2-chat:e951f18578850b652510200860fc4ea62b3b16fac280f83ff32282f87bbd2e48"
   ]
  },
  {
   "cell_type": "markdown",
   "metadata": {},
   "source": [
    "### promt generierung"
   ]
  },
  {
   "cell_type": "code",
   "execution_count": 6,
   "metadata": {},
   "outputs": [],
   "source": [
    "def generate_gpt_response(prompt_input):\n",
    "    messages=[{f\"role\": \"system\", \"content\": context}]\n",
    "    messages.append({\"role\": \"user\", \"content\": prompt_input})\n",
    "    if 'gpt' in llm:\n",
    "        response = openai.ChatCompletion.create(model=llm, messages=messages)\n",
    "        full_response = response[\"choices\"][0][\"message\"][\"content\"]\n",
    "    else:\n",
    "        response = replicate.run(llm, \n",
    "                           input={\"prompt\": \"You are a helpful assistant. You do not respond as 'User' or pretend to be 'User'. You only respond once as 'Assistant'. \"+ context + prompt_input +\" Assistant: \",\n",
    "                                  \"temperature\":0.1, \"top_p\":0.9, \"max_length\":4097, \"repetition_penalty\":1})\n",
    "        full_response = ''\n",
    "        for item in response:\n",
    "            full_response += item\n",
    "    return full_response"
   ]
  },
  {
   "cell_type": "markdown",
   "metadata": {},
   "source": [
    "### Substet"
   ]
  },
  {
   "cell_type": "code",
   "execution_count": 7,
   "metadata": {},
   "outputs": [],
   "source": [
    "def subset(df,  anzahl, cat_label):\n",
    "    # Liste zum Speichern der ausgewählten DataFrames\n",
    "    dfs = []\n",
    "    # Gruppieren nach 'Kategorie' und nehmen von 5 Stichproben für jede Gruppe\n",
    "    for name, group in df.groupby(cat_label):\n",
    "        dfs.append(group.sample(min(len(group), anzahl)))\n",
    "\n",
    "    # Kombinieren aller gesammelten DataFrames\n",
    "    con_df = pd.concat(dfs)\n",
    "    \n",
    "    return con_df.reset_index(drop=True)"
   ]
  },
  {
   "cell_type": "markdown",
   "metadata": {},
   "source": [
    "### Test News"
   ]
  },
  {
   "cell_type": "code",
   "execution_count": 8,
   "metadata": {},
   "outputs": [],
   "source": [
    "context=\"I will send you titles of newspaper articles in English now, which you should classify. The categories are: [BUSINESS, ENTERTAINMENT, HEALTH, NATION, SCIENCE, SPORTS, TECHNOLOGY, WORLD]. Always respond with the respective category. Your answer should only be one word. \\n The Title starts here:\""
   ]
  },
  {
   "cell_type": "code",
   "execution_count": 9,
   "metadata": {},
   "outputs": [],
   "source": [
    "df = pd.read_csv('../Data/labelled_newscatcher_dataset.csv', delimiter=';')\n",
    "df = df.iloc[:, [0, 4]]\n"
   ]
  },
  {
   "cell_type": "code",
   "execution_count": 10,
   "metadata": {},
   "outputs": [],
   "source": [
    "subset_df = subset(df,10, \"topic\")\n"
   ]
  },
  {
   "cell_type": "code",
   "execution_count": 11,
   "metadata": {},
   "outputs": [
    {
     "name": "stdout",
     "output_type": "stream",
     "text": [
      "Class = BUSINESS, Responce = BUSINESS, Text = Sterling nears 5-month high vs dollar amid impasse on U.S. relief package\n",
      "Class = BUSINESS, Responce = BUSINESS, Text = Global Steam Boilers Market for Thermal Power Plant & Oil Refinery, 2020-2025 - ResearchAndMarkets.com\n",
      "Class = BUSINESS, Responce = BUSINESS, Text = New York Accuses Egg Producer of Price Gouging in Pandemic\n",
      "Class = BUSINESS, Responce = BUSINESS, Text = Canadian Natural Resources buys Painted Pony for $461 million to boost Western Canada acreage\n",
      "Class = BUSINESS, Responce = TECHNOLOGY, Text = Facebook, Snap Inc held talks to buy TikTok rival Dubsmash: Report\n",
      "Class = BUSINESS, Responce = BUSINESS, Text = Real Rates Reversal Hitting Big Trades Including Gold and Nasdaq\n",
      "Class = BUSINESS, Responce = BUSINESS, Text = Israeli jeweller creates gold and diamond-encrusted mask that costs $1.5 million\n",
      "Class = BUSINESS, Responce = BUSINESS, Text = Electric Valve Market Challenges and Growth Factor By 2026| VETEC Ventiltechnik GmbH, Agromatic Regelungstechnik GmbH, AIRTEC Pneumatic\n",
      "Class = BUSINESS, Responce = BUSINESS, Text = Sanjeev Gupta's GFG Alliance to buy Tasmania's TEMCO smelter from South32\n",
      "Class = BUSINESS, Responce = BUSINESS, Text = Technical View: Nifty forms bullish candle, be cautious with stop below 10,900 on long-side bets\n",
      "Class = ENTERTAINMENT, Responce = ENTERTAINMENT, Text = Ellen DeGeneres horror story revealed by former waitress\n",
      "Class = ENTERTAINMENT, Responce = ENTERTAINMENT, Text = BBNaija 2020: Prince tells Tolanibaj he is fed up of the love triangles in the house – Pulse Nigeria - Nigeria News Links | Today's Updates\n",
      "Class = ENTERTAINMENT, Responce = ENTERTAINMENT, Text = Sarajevo Film Festival Examines Wartime Solidarity and Struggle\n",
      "Class = ENTERTAINMENT, Responce = ENTERTAINMENT, Text = One Avengers Villain Could Have Had A Bigger Endgame Role\n",
      "Class = ENTERTAINMENT, Responce = ENTERTAINMENT, Text = 'This Is Paris' Trailer Is A Revealing Look At The Real Paris Hilton\n",
      "Class = ENTERTAINMENT, Responce = ENTERTAINMENT, Text = First Dates producers to ban hugging and kissing for upcoming RTÉ series\n",
      "Class = ENTERTAINMENT, Responce = ENTERTAINMENT, Text = Michelle Money Says Clare Crawley and Dale Moss Were NOT Talking Before 'The Bachelorette'\n",
      "Class = ENTERTAINMENT, Responce = ENTERTAINMENT, Text = Ghislaine Maxwell ‘joked about making Princess Diana cry’ after meeting\n",
      "Class = ENTERTAINMENT, Responce = ENTERTAINMENT, Text = Kiefer Sutherland says he is ‘always open’ to revisit 24\n",
      "Class = ENTERTAINMENT, Responce = HEALTH, Text = “Cancer scare has left me childless” Wema Sepetu\n",
      "Class = HEALTH, Responce = HEALTH, Text = Massachusetts reports 14 new coronavirus deaths, 286 cases on Sunday as US tops 5 million cases\n",
      "Class = HEALTH, Responce = HEALTH, Text = Temporary mobile overdose prevention site opens outside Lethbridge Shelter and Resource Centre\n",
      "Class = HEALTH, Responce = HEALTH, Text = Study says rice linked to 50000 avoidable deaths a year\n",
      "Class = HEALTH, Responce = ENTERTAINMENT, Text = Lose a Stone in 21 Days review – a diet show that's hard to stomach\n",
      "Class = HEALTH, Responce = HEALTH, Text = Some Delhi hospitals seeing COVID re-emergence in recovered patients\n",
      "Class = HEALTH, Responce = HEALTH, Text = US coronavirus death toll set to reach 200,000 by Labor Day, CDC forecast says\n",
      "Class = HEALTH, Responce = NATION, Text = French new COVID-19 cases above 3,000 for second day\n",
      "Class = HEALTH, Responce = HEALTH, Text = Health: 'Do you really need to party?' WHO asks world's youth\n",
      "Class = HEALTH, Responce = HEALTH, Text = DeKalb officials detect West Nile virus in 5 locations\n",
      "Class = HEALTH, Responce = HEALTH, Text = Can Vitamin D rich foods lower the risk of Coronavirus infection?\n",
      "Class = NATION, Responce = HEALTH, Text = PH Covid Cases Near 140K – The Manila Times\n",
      "Class = NATION, Responce = NATION, Text = Fraud: Kwara court orders man to control traffic for three months\n",
      "Class = NATION, Responce = NATION, Text = Clare swim ban could last until Saturday - Council\n",
      "Class = NATION, Responce = NATION, Text = Upset by impending divorce, woman allowed cigarette to start blaze on husband's bed\n",
      "Class = NATION, Responce = NATION, Text = James R. Thompson, Longest-Serving Governor of Illinois, Dies at 84\n",
      "Class = NATION, Responce = NATION, Text = 2023: Ngige reveals APC’s power rotation agreement\n",
      "Class = NATION, Responce = HEALTH, Text = FG open to development, distribution of COVID-19 vaccine — Osinbajo\n",
      "Class = NATION, Responce = HEALTH, Text = Coronavirus is Spreading Faster in Jakarta, East Java\n",
      "Class = NATION, Responce = NATION, Text = Mau skirmishes disrupt plan to mark forest boundary\n",
      "Class = NATION, Responce = NATION, Text = Raj Bhavan under surveillance, will do everything to protect its sanctity: Bengal Governor\n",
      "Class = SCIENCE, Responce = SCIENCE, Text = 8 Thrilling Martian Postcards to Celebrate NASA Curiosity Mars Rover's Anniversary\n",
      "Class = SCIENCE, Responce = SCIENCE, Text = Cool NASA illustrations of Jupiter's lightning and atmospheric \"mushballs\"\n",
      "Class = SCIENCE, Responce = SCIENCE, Text = Dingoes have gotten bigger over the last 80 years - and pesticides might be to blame\n",
      "Class = SCIENCE, Responce = SCIENCE, Text = New kind of Higgs boson events detected at the Large Hadron Collider\n",
      "Class = SCIENCE, Responce = SCIENCE, Text = This 'Terror Crocodile' Had Teeth The Size of Bananas, Perfect For Eating Dinosaurs\n",
      "Class = SCIENCE, Responce = SCIENCE, Text = Every Sumatran rhino has died in Malaysia. Scientists want to bring them back with cloning technology\n",
      "Class = SCIENCE, Responce = SCIENCE, Text = Hope Probe completes ‘Perfect’ Trajectory Correction Manoeuvre, TCM1\n",
      "Class = SCIENCE, Responce = SCIENCE, Text = Rare ‘Boomerang’ Earthquake Observed Along Atlantic Ocean Fault Line\n",
      "Class = SCIENCE, Responce = SCIENCE, Text = SpaceX Launches 59 Satellites Into Space as Part of StarLink Project\n",
      "Class = SCIENCE, Responce = SCIENCE, Text = Ancient 'terror crocodile' had teeth the size of bananas\n",
      "Class = SPORTS, Responce = SPORTS, Text = England great Lawrence Dallaglio irked by All Blacks' unwillingness to travel\n",
      "Class = SPORTS, Responce = SPORTS, Text = Pirelli: Softer tyres not a risk at second Silverstone race\n",
      "Class = SPORTS, Responce = SPORTS, Text = Liverpool midfielder Georginio Wijnaldum 'is still waiting for contract talks to begin'\n",
      "Class = SPORTS, Responce = SPORTS, Text = NBA TV Ratings August 2020: How have Donald Trump's comments on Boycotting NBA affected its...\n",
      "Class = SPORTS, Responce = SPORTS, Text = Sheffield United close in on £18.5m signing of Bournemouth keeper Aaron Ramsdale\n",
      "Class = SPORTS, Responce = SPORTS, Text = “It Takes its Toll”: Toto Wolff Unsure of Continuing as Mercedes F1’s Team Principal\n",
      "Class = SPORTS, Responce = SPORTS, Text = Man Utd transfer target compared to Ryan Giggs with Ole Gunnar Solskjaer eager for deal\n",
      "Class = SPORTS, Responce = SPORTS, Text = Pick Six: Storylines to follow during 2020 NFL season\n",
      "Class = SPORTS, Responce = SPORTS, Text = How Chelsea could line up against Bayern Munich in Champions League tie\n",
      "Class = SPORTS, Responce = SPORTS, Text = Jadon Sancho move in doubt as Man Utd meet with two huge obstacles\n",
      "Class = TECHNOLOGY, Responce = ENTERTAINMENT, Text = Kylie Minogue: I didn't do very well keeping fit in lockdown\n",
      "Class = TECHNOLOGY, Responce = ENTERTAINMENT, Text = Dr Disrespect Makes His Comeback\n",
      "Class = TECHNOLOGY, Responce = ENTERTAINMENT, Text = Monster Hunter: World Has Been, Well, a Monstrous Hit\n",
      "Class = TECHNOLOGY, Responce = TECHNOLOGY, Text = watchOS 7 public beta is out now – here's what's in it\n",
      "Class = TECHNOLOGY, Responce = BUSINESS, Text = Amazon Freedom Sale Follows Prime Day, Scheduled From August 8 to 11\n",
      "Class = TECHNOLOGY, Responce = TECHNOLOGY, Text = Patent for DJI Mavic 3 leaked?\n",
      "Class = TECHNOLOGY, Responce = SCIENCE, Text = Using Air to Amplify Light in Hollow-Core Optical Fibers\n",
      "Class = TECHNOLOGY, Responce = TECHNOLOGY, Text = Here are two different ways to get the Samsung Galaxy Tab S6 Lite at a discount\n",
      "Class = TECHNOLOGY, Responce = ENTERTAINMENT, Text = Mario Kart Tour's Pirate Tour Adds King Bob-Omb And Pirate Bowser Jr.\n",
      "Class = TECHNOLOGY, Responce = TECHNOLOGY, Text = How the Latest iPhone Update Totally Ruined the CarPlay Experience\n",
      "Class = WORLD, Responce = NATION, Text = Obstacles to charging police in Breonna Taylor case: experts\n",
      "Class = WORLD, Responce = ENTERTAINMENT, Text = OMN: An 'alien' star in Ethiopia's skewed media universe is 'cancelled'\n",
      "Class = WORLD, Responce = NATION, Text = Over 20 fires break out in southern Israel due to incendiary balloons\n",
      "Class = WORLD, Responce = SCIENCE, Text = 'Paradise island' hosts untold botanical treasures\n",
      "Class = WORLD, Responce = HEALTH, Text = India hits 2 million coronavirus cases as health volunteers strike\n",
      "Class = WORLD, Responce = SCIENCE, Text = Earthquake info : M4.2 earthquake on Saturday, 8 August 2020 02:11 UTC / 13 km WSW of Stanley, Idaho (USA) - 48 experience reports\n",
      "Class = WORLD, Responce = NATION, Text = 'Drug smuggler' cat caught with heroin, SIM cards escapes Sri Lankan prison\n",
      "Class = WORLD, Responce = BUSINESS, Text = Egypt represents 40% of volume of trade between Russia, Africa: Egypt amb. to Russia\n",
      "Class = WORLD, Responce = WORLD, Text = U.S. seizes digital currency accounts used by militant groups\n",
      "Class = WORLD, Responce = NATION, Text = Dutch ambassador’s wife dies after Beirut blast\n",
      "The accuracy of the model is: 0.725 and cost: 0.0023485 and execution time: 110.20952105522156\n"
     ]
    }
   ],
   "source": [
    "TP = 0\n",
    "Ges = len(subset_df)\n",
    "ges_len_input = 0\n",
    "ges_len_responce = 0\n",
    "elapsed_time_ges = 0\n",
    "# Iterieren über die \"Text\"-Spalte und Drucken jedes Eintrags\n",
    "for index,text_entry in enumerate(subset_df['title']):\n",
    "    cat = subset_df[\"topic\"].iloc[index]\n",
    "    if 'gpt'in llm:\n",
    "        len_input = num_tokens_from_string(text_entry, llm)\n",
    "        ges_len_input += len_input\n",
    "    else:\n",
    "        ges_len_responce = 0\n",
    "    #ausführung Modell + Zeitstoppen\n",
    "    start_time = time.time()\n",
    "    responce = generate_gpt_response(text_entry)\n",
    "    end_time = time.time()\n",
    "    elapsed_time = end_time - start_time\n",
    "    elapsed_time_ges += elapsed_time\n",
    "    if 'gpt'in llm:\n",
    "        len_output_tokens = num_tokens_from_string(responce, llm)\n",
    "        ges_len_responce += len_output_tokens\n",
    "    else:\n",
    "        ges_len_responce = 0\n",
    "    print(f\"Class = {cat}, Responce = {responce}, Text = {text_entry}\")\n",
    "    if cat == responce:\n",
    "        TP+=1\n",
    "Acc = TP/Ges\n",
    "kosten = kostenrechner(ges_len_input, ges_len_responce)\n",
    "print(f\"The accuracy of the model is: {Acc} and cost: {kosten} and execution time: {elapsed_time_ges}\")\n"
   ]
  },
  {
   "cell_type": "markdown",
   "metadata": {},
   "source": [
    "### Test Spam"
   ]
  },
  {
   "cell_type": "code",
   "execution_count": 12,
   "metadata": {},
   "outputs": [],
   "source": [
    "\n",
    "\n",
    "context=\"Please identify the content that follows the word 'Subject' as either harmless or spam. Reply with 'ham' for harmless and 'spam' for spam. Your answer should only be one word.\""
   ]
  },
  {
   "cell_type": "code",
   "execution_count": 13,
   "metadata": {},
   "outputs": [],
   "source": [
    "df_spam = pd.read_csv('../Data/spam_ham_dataset.csv', sep = \",\")\n",
    "\n",
    "df_spam=df_spam[[\"label\",\"text\"]]\n"
   ]
  },
  {
   "cell_type": "code",
   "execution_count": 14,
   "metadata": {},
   "outputs": [
    {
     "data": {
      "text/html": [
       "<div>\n",
       "<style scoped>\n",
       "    .dataframe tbody tr th:only-of-type {\n",
       "        vertical-align: middle;\n",
       "    }\n",
       "\n",
       "    .dataframe tbody tr th {\n",
       "        vertical-align: top;\n",
       "    }\n",
       "\n",
       "    .dataframe thead th {\n",
       "        text-align: right;\n",
       "    }\n",
       "</style>\n",
       "<table border=\"1\" class=\"dataframe\">\n",
       "  <thead>\n",
       "    <tr style=\"text-align: right;\">\n",
       "      <th></th>\n",
       "      <th>label</th>\n",
       "      <th>text</th>\n",
       "    </tr>\n",
       "  </thead>\n",
       "  <tbody>\n",
       "    <tr>\n",
       "      <th>0</th>\n",
       "      <td>ham</td>\n",
       "      <td>Subject: enron methanol ; meter # : 988291\\r\\n...</td>\n",
       "    </tr>\n",
       "    <tr>\n",
       "      <th>1</th>\n",
       "      <td>ham</td>\n",
       "      <td>Subject: hpl nom for january 9 , 2001\\r\\n( see...</td>\n",
       "    </tr>\n",
       "    <tr>\n",
       "      <th>2</th>\n",
       "      <td>ham</td>\n",
       "      <td>Subject: neon retreat\\r\\nho ho ho , we ' re ar...</td>\n",
       "    </tr>\n",
       "    <tr>\n",
       "      <th>3</th>\n",
       "      <td>spam</td>\n",
       "      <td>Subject: photoshop , windows , office . cheap ...</td>\n",
       "    </tr>\n",
       "    <tr>\n",
       "      <th>4</th>\n",
       "      <td>ham</td>\n",
       "      <td>Subject: re : indian springs\\r\\nthis deal is t...</td>\n",
       "    </tr>\n",
       "    <tr>\n",
       "      <th>...</th>\n",
       "      <td>...</td>\n",
       "      <td>...</td>\n",
       "    </tr>\n",
       "    <tr>\n",
       "      <th>5166</th>\n",
       "      <td>ham</td>\n",
       "      <td>Subject: put the 10 on the ft\\r\\nthe transport...</td>\n",
       "    </tr>\n",
       "    <tr>\n",
       "      <th>5167</th>\n",
       "      <td>ham</td>\n",
       "      <td>Subject: 3 / 4 / 2000 and following noms\\r\\nhp...</td>\n",
       "    </tr>\n",
       "    <tr>\n",
       "      <th>5168</th>\n",
       "      <td>ham</td>\n",
       "      <td>Subject: calpine daily gas nomination\\r\\n&gt;\\r\\n...</td>\n",
       "    </tr>\n",
       "    <tr>\n",
       "      <th>5169</th>\n",
       "      <td>ham</td>\n",
       "      <td>Subject: industrial worksheets for august 2000...</td>\n",
       "    </tr>\n",
       "    <tr>\n",
       "      <th>5170</th>\n",
       "      <td>spam</td>\n",
       "      <td>Subject: important online banking alert\\r\\ndea...</td>\n",
       "    </tr>\n",
       "  </tbody>\n",
       "</table>\n",
       "<p>5171 rows × 2 columns</p>\n",
       "</div>"
      ],
      "text/plain": [
       "     label                                               text\n",
       "0      ham  Subject: enron methanol ; meter # : 988291\\r\\n...\n",
       "1      ham  Subject: hpl nom for january 9 , 2001\\r\\n( see...\n",
       "2      ham  Subject: neon retreat\\r\\nho ho ho , we ' re ar...\n",
       "3     spam  Subject: photoshop , windows , office . cheap ...\n",
       "4      ham  Subject: re : indian springs\\r\\nthis deal is t...\n",
       "...    ...                                                ...\n",
       "5166   ham  Subject: put the 10 on the ft\\r\\nthe transport...\n",
       "5167   ham  Subject: 3 / 4 / 2000 and following noms\\r\\nhp...\n",
       "5168   ham  Subject: calpine daily gas nomination\\r\\n>\\r\\n...\n",
       "5169   ham  Subject: industrial worksheets for august 2000...\n",
       "5170  spam  Subject: important online banking alert\\r\\ndea...\n",
       "\n",
       "[5171 rows x 2 columns]"
      ]
     },
     "execution_count": 14,
     "metadata": {},
     "output_type": "execute_result"
    }
   ],
   "source": [
    "df_spam"
   ]
  },
  {
   "cell_type": "code",
   "execution_count": 15,
   "metadata": {},
   "outputs": [],
   "source": [
    "df_spam_subset = subset(df_spam, 10,\"label\")"
   ]
  },
  {
   "cell_type": "code",
   "execution_count": 16,
   "metadata": {},
   "outputs": [
    {
     "data": {
      "text/html": [
       "<div>\n",
       "<style scoped>\n",
       "    .dataframe tbody tr th:only-of-type {\n",
       "        vertical-align: middle;\n",
       "    }\n",
       "\n",
       "    .dataframe tbody tr th {\n",
       "        vertical-align: top;\n",
       "    }\n",
       "\n",
       "    .dataframe thead th {\n",
       "        text-align: right;\n",
       "    }\n",
       "</style>\n",
       "<table border=\"1\" class=\"dataframe\">\n",
       "  <thead>\n",
       "    <tr style=\"text-align: right;\">\n",
       "      <th></th>\n",
       "      <th>label</th>\n",
       "      <th>text</th>\n",
       "    </tr>\n",
       "  </thead>\n",
       "  <tbody>\n",
       "    <tr>\n",
       "      <th>0</th>\n",
       "      <td>ham</td>\n",
       "      <td>Subject: hpl nom for february 9 , 2001\\r\\n( se...</td>\n",
       "    </tr>\n",
       "    <tr>\n",
       "      <th>1</th>\n",
       "      <td>ham</td>\n",
       "      <td>Subject: deal 338634 meter 985077\\r\\nthe above...</td>\n",
       "    </tr>\n",
       "    <tr>\n",
       "      <th>2</th>\n",
       "      <td>ham</td>\n",
       "      <td>Subject: fw : intrastate gas\\r\\nfyi : from leg...</td>\n",
       "    </tr>\n",
       "    <tr>\n",
       "      <th>3</th>\n",
       "      <td>ham</td>\n",
       "      <td>Subject: cornhusker\\r\\ndaren - - - ( re : the ...</td>\n",
       "    </tr>\n",
       "    <tr>\n",
       "      <th>4</th>\n",
       "      <td>ham</td>\n",
       "      <td>Subject: fun pics . htm\\r\\n-\\r\\n- fun pics . htm</td>\n",
       "    </tr>\n",
       "    <tr>\n",
       "      <th>5</th>\n",
       "      <td>ham</td>\n",
       "      <td>Subject: union carbide , 96002201\\r\\nfax of co...</td>\n",
       "    </tr>\n",
       "    <tr>\n",
       "      <th>6</th>\n",
       "      <td>ham</td>\n",
       "      <td>Subject: fw : tufco deal 108058\\r\\ndarin ,\\r\\n...</td>\n",
       "    </tr>\n",
       "    <tr>\n",
       "      <th>7</th>\n",
       "      <td>ham</td>\n",
       "      <td>Subject: assistant - realignment of duties\\r\\n...</td>\n",
       "    </tr>\n",
       "    <tr>\n",
       "      <th>8</th>\n",
       "      <td>ham</td>\n",
       "      <td>Subject: goldston outage\\r\\nper kevin at golds...</td>\n",
       "    </tr>\n",
       "    <tr>\n",
       "      <th>9</th>\n",
       "      <td>ham</td>\n",
       "      <td>Subject: point change to tagg deal 589257\\r\\nf...</td>\n",
       "    </tr>\n",
       "    <tr>\n",
       "      <th>10</th>\n",
       "      <td>spam</td>\n",
       "      <td>Subject: anxiety ? valium and x . anax shipped...</td>\n",
       "    </tr>\n",
       "    <tr>\n",
       "      <th>11</th>\n",
       "      <td>spam</td>\n",
       "      <td>Subject: high - quality medication , low rates...</td>\n",
       "    </tr>\n",
       "    <tr>\n",
       "      <th>12</th>\n",
       "      <td>spam</td>\n",
       "      <td>Subject: save 70 percent on super viagra 24663...</td>\n",
       "    </tr>\n",
       "    <tr>\n",
       "      <th>13</th>\n",
       "      <td>spam</td>\n",
       "      <td>Subject: would $ 996 , 449 help your fa . mily...</td>\n",
       "    </tr>\n",
       "    <tr>\n",
       "      <th>14</th>\n",
       "      <td>spam</td>\n",
       "      <td>Subject: brand new teenager peeing\\r\\nyou don ...</td>\n",
       "    </tr>\n",
       "    <tr>\n",
       "      <th>15</th>\n",
       "      <td>spam</td>\n",
       "      <td>Subject: \\r\\nif you are paying more than 3 . 1...</td>\n",
       "    </tr>\n",
       "    <tr>\n",
       "      <th>16</th>\n",
       "      <td>spam</td>\n",
       "      <td>Subject: fwd : e b a y - tips , tricks and sec...</td>\n",
       "    </tr>\n",
       "    <tr>\n",
       "      <th>17</th>\n",
       "      <td>spam</td>\n",
       "      <td>Subject: order prescript &amp; ion dru # gs online...</td>\n",
       "    </tr>\n",
       "    <tr>\n",
       "      <th>18</th>\n",
       "      <td>spam</td>\n",
       "      <td>Subject: shape your wood .\\r\\nclick here to or...</td>\n",
       "    </tr>\n",
       "    <tr>\n",
       "      <th>19</th>\n",
       "      <td>spam</td>\n",
       "      <td>Subject: fw : nasty slut getting fucked hard\\r...</td>\n",
       "    </tr>\n",
       "  </tbody>\n",
       "</table>\n",
       "</div>"
      ],
      "text/plain": [
       "   label                                               text\n",
       "0    ham  Subject: hpl nom for february 9 , 2001\\r\\n( se...\n",
       "1    ham  Subject: deal 338634 meter 985077\\r\\nthe above...\n",
       "2    ham  Subject: fw : intrastate gas\\r\\nfyi : from leg...\n",
       "3    ham  Subject: cornhusker\\r\\ndaren - - - ( re : the ...\n",
       "4    ham   Subject: fun pics . htm\\r\\n-\\r\\n- fun pics . htm\n",
       "5    ham  Subject: union carbide , 96002201\\r\\nfax of co...\n",
       "6    ham  Subject: fw : tufco deal 108058\\r\\ndarin ,\\r\\n...\n",
       "7    ham  Subject: assistant - realignment of duties\\r\\n...\n",
       "8    ham  Subject: goldston outage\\r\\nper kevin at golds...\n",
       "9    ham  Subject: point change to tagg deal 589257\\r\\nf...\n",
       "10  spam  Subject: anxiety ? valium and x . anax shipped...\n",
       "11  spam  Subject: high - quality medication , low rates...\n",
       "12  spam  Subject: save 70 percent on super viagra 24663...\n",
       "13  spam  Subject: would $ 996 , 449 help your fa . mily...\n",
       "14  spam  Subject: brand new teenager peeing\\r\\nyou don ...\n",
       "15  spam  Subject: \\r\\nif you are paying more than 3 . 1...\n",
       "16  spam  Subject: fwd : e b a y - tips , tricks and sec...\n",
       "17  spam  Subject: order prescript & ion dru # gs online...\n",
       "18  spam  Subject: shape your wood .\\r\\nclick here to or...\n",
       "19  spam  Subject: fw : nasty slut getting fucked hard\\r..."
      ]
     },
     "execution_count": 16,
     "metadata": {},
     "output_type": "execute_result"
    }
   ],
   "source": [
    "df_spam_subset"
   ]
  },
  {
   "cell_type": "code",
   "execution_count": 17,
   "metadata": {},
   "outputs": [
    {
     "name": "stdout",
     "output_type": "stream",
     "text": [
      "Class = ham, Responce = ham\n",
      "Class = ham, Responce = spam\n",
      "Class = ham, Responce = ham\n",
      "Class = ham, Responce = ham\n",
      "Class = ham, Responce = spam\n",
      "Class = ham, Responce = spam\n",
      "Class = ham, Responce = ham\n",
      "Class = ham, Responce = ham\n",
      "Class = ham, Responce = ham\n",
      "Class = ham, Responce = ham\n",
      "Class = spam, Responce = spam\n",
      "Class = spam, Responce = spam\n",
      "Class = spam, Responce = spam\n",
      "Class = spam, Responce = spam\n",
      "Class = spam, Responce = spam\n"
     ]
    }
   ],
   "source": [
    "TP = 0\n",
    "Ges = len(df_spam_subset)\n",
    "ges_len_input = 0\n",
    "ges_len_responce = 0\n",
    "elapsed_time_ges = 0\n",
    "# Iterieren über die \"Text\"-Spalte und Drucken jedes Eintrags\n",
    "for index,text_entry in enumerate(df_spam_subset['text']):\n",
    "    if 'gpt'in llm:\n",
    "        len_input = num_tokens_from_string(text_entry, llm)\n",
    "        ges_len_input += len_input\n",
    "    else:\n",
    "        len_input = num_tokens_from_string(text_entry, \"gpt-3.5-turbo\")\n",
    "        ges_len_responce = 0\n",
    "    if len_input>4097:\n",
    "        text_entry = text_entry[:-int((1-((4097/len_input)-0.05))*len(text_entry))]\n",
    "\n",
    "    cat = df_spam_subset[\"label\"].iloc[index]\n",
    "    #ausführung Modell + Zeitstoppen\n",
    "    start_time = time.time()\n",
    "    responce = generate_gpt_response(text_entry)\n",
    "    end_time = time.time()\n",
    "    elapsed_time = end_time - start_time\n",
    "    elapsed_time_ges += elapsed_time\n",
    "\n",
    "    if 'gpt'in llm:\n",
    "        len_output_tokens = num_tokens_from_string(responce, llm)\n",
    "        ges_len_responce += len_output_tokens\n",
    "    else:\n",
    "        ges_len_responce = 0\n",
    "    print(f\"Class = {cat}, Responce = {responce}\")\n",
    "    if cat == responce:\n",
    "        TP+=1\n",
    "kosten = kostenrechner(ges_len_input, ges_len_responce)\n",
    "Acc = TP/Ges\n",
    "print(f\"The accuracy of the model is: {Acc} and cost: {kosten} and execution time: {elapsed_time_ges}\")\n"
   ]
  },
  {
   "cell_type": "code",
   "execution_count": null,
   "metadata": {},
   "outputs": [],
   "source": [
    "# Liste zum Speichern der ausgewählten DataFrames\n",
    "dfs = []\n",
    "\n",
    "# Gruppieren nach 'Kategorie' und nehmen von 5 Stichproben für jede Gruppe\n",
    "for name, group in df_spam.groupby('Kategorie'):\n",
    "    dfs.append(group.sample(min(len(group), 5)))\n",
    "\n",
    "# Kombinieren aller gesammelten DataFrames\n",
    "subset_spam_df = pd.concat(dfs)"
   ]
  }
 ],
 "metadata": {
  "kernelspec": {
   "display_name": "DTC",
   "language": "python",
   "name": "python3"
  },
  "language_info": {
   "codemirror_mode": {
    "name": "ipython",
    "version": 3
   },
   "file_extension": ".py",
   "mimetype": "text/x-python",
   "name": "python",
   "nbconvert_exporter": "python",
   "pygments_lexer": "ipython3",
   "version": "3.10.13"
  },
  "orig_nbformat": 4
 },
 "nbformat": 4,
 "nbformat_minor": 2
}
