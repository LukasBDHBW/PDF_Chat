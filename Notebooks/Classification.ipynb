{
 "cells": [
  {
   "cell_type": "markdown",
   "metadata": {},
   "source": [
    "# Klassifikation von Spam Mails und E-Maildaten\n"
   ]
  },
  {
   "cell_type": "markdown",
   "metadata": {},
   "source": [
    "### Imports"
   ]
  },
  {
   "cell_type": "code",
   "execution_count": 1,
   "metadata": {},
   "outputs": [],
   "source": [
    "import pandas as pd\n",
    "import openai\n",
    "import time\n",
    "import replicate\n",
    "import os\n",
    "import tiktoken\n",
    "import toml"
   ]
  },
  {
   "cell_type": "markdown",
   "metadata": {},
   "source": [
    "### Tokens und Kosten"
   ]
  },
  {
   "cell_type": "code",
   "execution_count": 2,
   "metadata": {},
   "outputs": [],
   "source": [
    "def num_tokens_from_string(string: str, encoding_name: str) -> int:\n",
    "    encoding = tiktoken.encoding_for_model(encoding_name)\n",
    "    num_tokens = len(encoding.encode(string))\n",
    "    return num_tokens\n"
   ]
  },
  {
   "cell_type": "code",
   "execution_count": 3,
   "metadata": {},
   "outputs": [],
   "source": [
    "def kostenrechner(anzahl_input,anzahl_output):\n",
    "    if llm == 'gpt-4':\n",
    "        kosten = ((0.03/1000)*anzahl_input)+((0.06/1000)*anzahl_output)\n",
    "    elif llm == 'gpt-3.5-turbo':\n",
    "        kosten = ((0.0015/1000)*anzahl_input)+((0.002/1000)*anzahl_output)\n",
    "    elif llm == 'replicate/llama70b-v2-chat:e951f18578850b652510200860fc4ea62b3b16fac280f83ff32282f87bbd2e48':        \n",
    "        kosten = elapsed_time_ges*(0.001400)\n",
    "    return kosten"
   ]
  },
  {
   "cell_type": "markdown",
   "metadata": {},
   "source": [
    "### Keys "
   ]
  },
  {
   "cell_type": "code",
   "execution_count": 4,
   "metadata": {},
   "outputs": [],
   "source": [
    "# Laden Sie die .toml-Datei\n",
    "data = toml.load(\"../.streamlit/secrets.toml\")\n",
    "\n",
    "# Werte auslesen\n",
    "replicate_api_token = data[\"API_TOKEN\"][\"replicate_api_token\"]\n",
    "os.environ['REPLICATE_API_TOKEN'] = replicate_api_token\n",
    "openai_api = data[\"API_TOKEN\"][\"openai_api\"]\n",
    "openai.api_key = openai_api\n"
   ]
  },
  {
   "cell_type": "code",
   "execution_count": 27,
   "metadata": {},
   "outputs": [],
   "source": [
    "llm='gpt-3.5-turbo' #gpt-3.5-turbo, gpt-4, replicate/llama70b-v2-chat:e951f18578850b652510200860fc4ea62b3b16fac280f83ff32282f87bbd2e48"
   ]
  },
  {
   "cell_type": "markdown",
   "metadata": {},
   "source": [
    "### promt generierung"
   ]
  },
  {
   "cell_type": "code",
   "execution_count": 7,
   "metadata": {},
   "outputs": [],
   "source": [
    "def generate_gpt_response(prompt_input):\n",
    "    messages=[{f\"role\": \"system\", \"content\": context}]\n",
    "    messages.append({\"role\": \"user\", \"content\": prompt_input})\n",
    "    if 'gpt' in llm:\n",
    "        response = openai.ChatCompletion.create(model=llm, messages=messages)\n",
    "        full_response = response[\"choices\"][0][\"message\"][\"content\"]\n",
    "    else:\n",
    "        response = replicate.run(llm, \n",
    "                           input={\"prompt\": \"You are a helpful assistant. You do not respond as 'User' or pretend to be 'User'. You only respond once as 'Assistant'. \"+ context + prompt_input +\" Assistant: \",\n",
    "                                  \"temperature\":0.1, \"top_p\":0.9, \"max_length\":4097, \"repetition_penalty\":1})\n",
    "        full_response = ''\n",
    "        for item in response:\n",
    "            full_response += item\n",
    "    return full_response"
   ]
  },
  {
   "cell_type": "markdown",
   "metadata": {},
   "source": [
    "### Substet"
   ]
  },
  {
   "cell_type": "code",
   "execution_count": 8,
   "metadata": {},
   "outputs": [],
   "source": [
    "def subset(df,  anzahl, cat_label):\n",
    "    # Liste zum Speichern der ausgewählten DataFrames\n",
    "    dfs = []\n",
    "    # Gruppieren nach 'Kategorie' und nehmen von 5 Stichproben für jede Gruppe\n",
    "    for name, group in df.groupby(cat_label):\n",
    "        dfs.append(group.sample(min(len(group), anzahl)))\n",
    "\n",
    "    # Kombinieren aller gesammelten DataFrames\n",
    "    con_df = pd.concat(dfs)\n",
    "    \n",
    "    return con_df.reset_index(drop=True)"
   ]
  },
  {
   "cell_type": "markdown",
   "metadata": {},
   "source": [
    "### Test News"
   ]
  },
  {
   "cell_type": "code",
   "execution_count": 10,
   "metadata": {},
   "outputs": [],
   "source": [
    "context=\"I will send you titles of newspaper articles in English now, which you should classify. The categories are: [BUSINESS, ENTERTAINMENT, HEALTH, NATION, SCIENCE, SPORTS, TECHNOLOGY, WORLD]. Always respond with the respective category. Your answer should only be one word. \\n The Title starts here:\""
   ]
  },
  {
   "cell_type": "code",
   "execution_count": 11,
   "metadata": {},
   "outputs": [],
   "source": [
    "df = pd.read_csv('../Data/labelled_newscatcher_dataset.csv', delimiter=';')\n",
    "df = df.iloc[:, [0, 4]]\n"
   ]
  },
  {
   "cell_type": "code",
   "execution_count": 12,
   "metadata": {},
   "outputs": [],
   "source": [
    "subset_df = subset(df,10, \"topic\")\n"
   ]
  },
  {
   "cell_type": "code",
   "execution_count": 17,
   "metadata": {},
   "outputs": [
    {
     "name": "stdout",
     "output_type": "stream",
     "text": [
      "Class = BUSINESS, Responce = BUSINESS, Text = Monzo: the bank that doesn’t want to be\n",
      "Class = BUSINESS, Responce = BUSINESS, Text = Uber's food-delivery business doubles but Covid-19 eviscerates rides demand\n",
      "Class = BUSINESS, Responce = BUSINESS, Text = Covid-19: IEA cuts global oil demand forecast for 2020 to 91.9 mn bpd\n",
      "Class = BUSINESS, Responce = BUSINESS, Text = Oil prices struggle to hold five-month high amid pandemic worries\n",
      "Class = BUSINESS, Responce = BUSINESS, Text = Puma Exploration and El Nino Ventures Terminate the Murray Brook Purchase Agreement\n",
      "Class = BUSINESS, Responce = BUSINESS, Text = Davidson County business fined for violating mask mandate\n",
      "Class = BUSINESS, Responce = BUSINESS, Text = For the art collector with everything, the $1.5 million COVID mask\n",
      "Class = BUSINESS, Responce = HEALTH, Text = AZ inks deal with EU for 400 million doses of COVID-19 vaccine\n",
      "Class = BUSINESS, Responce = BUSINESS, Text = Why Micron Technology Stock Just Dropped 5%\n",
      "Class = BUSINESS, Responce = BUSINESS, Text = UK job losses hit decade-high, due to Covid-19\n",
      "Class = ENTERTAINMENT, Responce = ENTERTAINMENT, Text = Zoe Kravitz launches furious dig at Hulu for lack of shows starring women of colour\n",
      "Class = ENTERTAINMENT, Responce = ENTERTAINMENT, Text = BBNaija Lockdown: Erica gives reason for returning to Kidd Waya after agreeing to remain just friends (video)\n",
      "Class = ENTERTAINMENT, Responce = BUSINESS, Text = NAM1 sells phones and fridges to survive – Blakk Rasta\n",
      "Class = ENTERTAINMENT, Responce = ENTERTAINMENT, Text = Italy's pioneering comic actor, Franca Valeri, dies at 100\n",
      "Class = ENTERTAINMENT, Responce = ENTERTAINMENT, Text = The Boys Season 3 Will Now Feature A Supernatural Reunion Thanks To Jensen Ackles\n",
      "Class = ENTERTAINMENT, Responce = HEALTH, Text = After recovering from virus, Domingo vows to clear name\n",
      "Class = ENTERTAINMENT, Responce = ENTERTAINMENT, Text = 'Selling Sunset' Season 4: Cast Member Hints Netflix Has Renewed the Show\n",
      "Class = ENTERTAINMENT, Responce = ENTERTAINMENT, Text = 'Hugely disappointed': Rod Stewart reschedules Mission Concert\n",
      "Class = ENTERTAINMENT, Responce = ENTERTAINMENT, Text = Boris Johnson: Spitting Image puppet unveiled ahead of relaunch\n",
      "Class = ENTERTAINMENT, Responce = ENTERTAINMENT, Text = Stylist to the stars blasts worst celebrities to work with and raves about the 'sweetest'\n",
      "Class = HEALTH, Responce = HEALTH, Text = Delay routine dental checkups, WHO urges, until COVID-10 risk is known\n",
      "Class = HEALTH, Responce = HEALTH, Text = Another six new COVID-19 cases in Elgin-Oxford, one in London\n",
      "Class = HEALTH, Responce = NATION, Text = How schools can reopen safely during the pandemic\n",
      "Class = HEALTH, Responce = HEALTH, Text = More than 18,000 total cases reported in El Paso; three additional deaths\n",
      "Class = HEALTH, Responce = HEALTH, Text = J&J eyes one billion doses of potential COVID-19 shot in 2021, weighs challenge trials\n",
      "Class = HEALTH, Responce = HEALTH, Text = 150 COVID-19 cases linked to teens from parties in South Lyon, Fenton\n",
      "Class = HEALTH, Responce = HEALTH, Text = Health Complications During COVID19: What Precautions Should Be Taken Before Seeking Treatment at Hospitals?\n",
      "Class = HEALTH, Responce = HEALTH, Text = This 21-year-old thought he had overcome a mild case of COVID-19. Then he went into organ failure\n",
      "Class = HEALTH, Responce = HEALTH, Text = NYC Councilman Paul Vallone credits Hydroxychloroquine for COVID-19 recovery\n",
      "Class = HEALTH, Responce = HEALTH, Text = Type 2 diabetes: Eye condition that may be the result of high blood sugar levels\n",
      "Class = NATION, Responce = NATION, Text = Live: National to launch border policy to tackle Covid-19; Auckland faces weather test\n",
      "Class = NATION, Responce = HEALTH, Text = Philippines Confirms 4226 New Coronavirus Cases, 41 More Deaths\n",
      "Class = NATION, Responce = NATION, Text = Night curfew in Ludhiana, Jalandhar, Patiala from Saturday to check Covid-19 spread\n",
      "Class = NATION, Responce = HEALTH, Text = Sydney Catholic school hit by coronavirus cleared of wrongdoing as NSW records nine new cases\n",
      "Class = NATION, Responce = NATION, Text = Mark McGowan warns Clive Palmer legal action could bankrupt WA\n",
      "Class = NATION, Responce = NATION, Text = Court orders Pavithra to submit official letter to not proceed case against husband Sugu\n",
      "Class = NATION, Responce = NATION, Text = Customer used ATM with live bombs after failed robbery\n",
      "Class = NATION, Responce = WORLD, Text = The reason why the special envoy from South Africa snubed the opposition revealed\n",
      "Class = NATION, Responce = HEALTH, Text = PH opens COVID-19 command center to monitor hospital capacity, help in inter-facility transfer\n",
      "Class = NATION, Responce = NATION, Text = Toddler found safe 5 km away after wandering away from family in B.C. backcountry\n",
      "Class = SCIENCE, Responce = SCIENCE, Text = Astronomers discover extremely distant galaxy that looks like the Milky Way\n",
      "Class = SCIENCE, Responce = SCIENCE, Text = NASA and SpaceX set date for first operational Crew Dragon mission\n",
      "Class = SCIENCE, Responce = SCIENCE, Text = Top tips for watching the Perseid meteor shower, which peaks Aug. 11 and 12\n",
      "Class = SCIENCE, Responce = HEALTH, Text = Masks, PPE materials should be hydrophilic\n",
      "Class = SCIENCE, Responce = SCIENCE, Text = NASA shares eight stunning images from Mars's surface\n",
      "Class = SCIENCE, Responce = SCIENCE, Text = Fossils Tyrannosaurus rex has a brand new relative confirmed by British scientists as an unknown dinosaur species\n",
      "Class = SCIENCE, Responce = SCIENCE, Text = NASA Moves Forward With Its Orion Adapter Installation\n",
      "Class = SCIENCE, Responce = SCIENCE, Text = Author Q&A: Katie Mack on how the universe may end\n",
      "Class = SCIENCE, Responce = SCIENCE, Text = British fossil hunters find bones of new dinosaur species, cousin to T.Rex\n",
      "Class = SCIENCE, Responce = SCIENCE, Text = Ceres Dwarf Planet Is an ‘Ocean World’ With Salty Water Underground, NASA Data Suggest\n",
      "Class = SPORTS, Responce = SPORTS, Text = Report reveals Man Utd double deal 'unlikely' this summer\n",
      "Class = SPORTS, Responce = SPORTS, Text = Robin van Persie predicts: Sevilla vs United, Inter vs Shakhtar\n",
      "Class = SPORTS, Responce = SPORTS, Text = Detroit Tigers lineup vs. Pittsburgh Pirates: Regulars go for sweep with Spencer Turnbull\n",
      "Class = SPORTS, Responce = SPORTS, Text = ‘Suga’ spoiler Marlon Vera: Joe Rogan helped me conquer my inner b*tch\n",
      "Class = SPORTS, Responce = SPORTS, Text = 'I'm disappointed that it's become a big issue': Alastair Clarkson responds to Tom Papley's staging fine\n",
      "Class = SPORTS, Responce = SPORTS, Text = Leeds United Q&A live: Marcelo Bielsa talks, Ben White latest, new kit launch\n",
      "Class = SPORTS, Responce = SPORTS, Text = FIFA 21: FUT TRAILER REVEALED: New Icons, Ratings, Predictions, Latest news & more\n",
      "Class = SPORTS, Responce = SPORTS, Text = Sancho to remain at Dortmund despite financial crisis Watzke\n",
      "Class = SPORTS, Responce = SPORTS, Text = Coates training mishap adds injury to insult for Broncos\n",
      "Class = SPORTS, Responce = SPORTS, Text = 3 Keys: Islanders vs. Panthers, Game 4 of Cup Qualifiers\n",
      "Class = TECHNOLOGY, Responce = TECHNOLOGY, Text = Pixel 4 and Pixel 4a get ioXt certification, which rates security of preloaded apps\n",
      "Class = TECHNOLOGY, Responce = TECHNOLOGY, Text = Intel 10th Gen Core i7-1065G7 review: Taking the fight to AMD's Ryzen CPUs\n",
      "Class = TECHNOLOGY, Responce = ENTERTAINMENT, Text = Former Assassin's Creed Valhalla creative director fired after misconduct investigation\n",
      "Class = TECHNOLOGY, Responce = SPORTS, Text = 100 Thieves coach ImAPet thinks CSGO badly needs new maps\n",
      "Class = TECHNOLOGY, Responce = TECHNOLOGY, Text = Developer says it is working to fix Horizon Zero Dawn's many PC issues\n",
      "Class = TECHNOLOGY, Responce = TECHNOLOGY, Text = Google certifies Fuchsia OS’s ‘Sapphire’ through Bluetooth SIG\n",
      "Class = TECHNOLOGY, Responce = BUSINESS, Text = Apple Seeking to Build China-Based iPhone Supply Chain Exclusively for Chinese Market\n",
      "Class = TECHNOLOGY, Responce = ENTERTAINMENT, Text = Dark Souls-Like Mortal Shell Gets PS4, Xbox One, and PC Release Date\n",
      "Class = TECHNOLOGY, Responce = TECHNOLOGY, Text = Red Dead Redemption 2 Online: What is error ce-34878-0 on PS4? Rockstar promises a fix\n",
      "Class = TECHNOLOGY, Responce = BUSINESS, Text = Epic Games Raises USD$1.78bn; Trump Signs Executive Order Against Tencent\n",
      "Class = WORLD, Responce = WORLD, Text = Mali crisis: Opposition leader, Dicko, vows to 'win victory'\n",
      "Class = WORLD, Responce = WORLD, Text = US relaxes travel advisory, but India still on no-go list\n",
      "Class = WORLD, Responce = WORLD, Text = Taoiseach has first face-to-face meeting with Prime Minister Boris Johnson\n",
      "Class = WORLD, Responce = HEALTH, Text = Ethiopia to Conduct 17 Million COVID-19 Tests as Confirmed Cases Approach 20,000 at Tadias Magazine\n",
      "Class = WORLD, Responce = WORLD, Text = Where's Samantha Lewthwaite Now? The White Widow Is Still MIA\n",
      "Class = WORLD, Responce = HEALTH, Text = Victoria records 278 new cases, eight more deaths\n",
      "Class = WORLD, Responce = NATION, Text = UK weather: We could be set for a heatwave - with temperatures hotter than the Caribbean\n",
      "Class = WORLD, Responce = WORLD, Text = Light aircraft crashes in Russia’s Far East\n",
      "Class = WORLD, Responce = WORLD, Text = ‘Is EU worth the price?' Now Ireland must take ‘a long hard look’ at Brussels membership\n",
      "Class = WORLD, Responce = WORLD, Text = U.S., South Korea to begin scaled-down drills amid virus spike\n",
      "The accuracy of the model is: 0.7875 and cost: 0.049859999999999995 and execution time: 72.03608870506287\n"
     ]
    }
   ],
   "source": [
    "TP = 0\n",
    "Ges = len(subset_df)\n",
    "ges_len_input = 0\n",
    "ges_len_responce = 0\n",
    "elapsed_time_ges = 0\n",
    "# Iterieren über die \"Text\"-Spalte und Drucken jedes Eintrags\n",
    "for index,text_entry in enumerate(subset_df['title']):\n",
    "    cat = subset_df[\"topic\"].iloc[index]\n",
    "    if 'gpt'in llm:\n",
    "        len_input = num_tokens_from_string(text_entry, llm)\n",
    "        ges_len_input += len_input\n",
    "    else:\n",
    "        ges_len_responce = 0\n",
    "    #ausführung Modell + Zeitstoppen\n",
    "    start_time = time.time()\n",
    "    responce = generate_gpt_response(text_entry)\n",
    "    end_time = time.time()\n",
    "    elapsed_time = end_time - start_time\n",
    "    elapsed_time_ges += elapsed_time\n",
    "    if 'gpt'in llm:\n",
    "        len_output_tokens = num_tokens_from_string(responce, llm)\n",
    "        ges_len_responce += len_output_tokens\n",
    "    else:\n",
    "        ges_len_responce = 0\n",
    "    print(f\"Class = {cat}, Responce = {responce}, Text = {text_entry}\")\n",
    "    if cat == responce:\n",
    "        TP+=1\n",
    "Acc = TP/Ges\n",
    "kosten = kostenrechner(ges_len_input, ges_len_responce)\n",
    "print(f\"The accuracy of the model is: {Acc} and cost: {kosten} and execution time: {elapsed_time_ges}\")\n"
   ]
  },
  {
   "cell_type": "markdown",
   "metadata": {},
   "source": [
    "### Test Spam"
   ]
  },
  {
   "cell_type": "code",
   "execution_count": 18,
   "metadata": {},
   "outputs": [],
   "source": [
    "\n",
    "\n",
    "context=\"Please identify the content that follows the word 'Subject' as either harmless or spam. Reply with 'ham' for harmless and 'spam' for spam. Your answer should only be one word.\""
   ]
  },
  {
   "cell_type": "code",
   "execution_count": 19,
   "metadata": {},
   "outputs": [],
   "source": [
    "df_spam = pd.read_csv('../Data/spam_ham_dataset.csv', sep = \",\")\n",
    "\n",
    "df_spam=df_spam[[\"label\",\"text\"]]\n"
   ]
  },
  {
   "cell_type": "code",
   "execution_count": 20,
   "metadata": {},
   "outputs": [
    {
     "data": {
      "text/html": [
       "<div>\n",
       "<style scoped>\n",
       "    .dataframe tbody tr th:only-of-type {\n",
       "        vertical-align: middle;\n",
       "    }\n",
       "\n",
       "    .dataframe tbody tr th {\n",
       "        vertical-align: top;\n",
       "    }\n",
       "\n",
       "    .dataframe thead th {\n",
       "        text-align: right;\n",
       "    }\n",
       "</style>\n",
       "<table border=\"1\" class=\"dataframe\">\n",
       "  <thead>\n",
       "    <tr style=\"text-align: right;\">\n",
       "      <th></th>\n",
       "      <th>label</th>\n",
       "      <th>text</th>\n",
       "    </tr>\n",
       "  </thead>\n",
       "  <tbody>\n",
       "    <tr>\n",
       "      <th>0</th>\n",
       "      <td>ham</td>\n",
       "      <td>Subject: enron methanol ; meter # : 988291\\r\\n...</td>\n",
       "    </tr>\n",
       "    <tr>\n",
       "      <th>1</th>\n",
       "      <td>ham</td>\n",
       "      <td>Subject: hpl nom for january 9 , 2001\\r\\n( see...</td>\n",
       "    </tr>\n",
       "    <tr>\n",
       "      <th>2</th>\n",
       "      <td>ham</td>\n",
       "      <td>Subject: neon retreat\\r\\nho ho ho , we ' re ar...</td>\n",
       "    </tr>\n",
       "    <tr>\n",
       "      <th>3</th>\n",
       "      <td>spam</td>\n",
       "      <td>Subject: photoshop , windows , office . cheap ...</td>\n",
       "    </tr>\n",
       "    <tr>\n",
       "      <th>4</th>\n",
       "      <td>ham</td>\n",
       "      <td>Subject: re : indian springs\\r\\nthis deal is t...</td>\n",
       "    </tr>\n",
       "    <tr>\n",
       "      <th>...</th>\n",
       "      <td>...</td>\n",
       "      <td>...</td>\n",
       "    </tr>\n",
       "    <tr>\n",
       "      <th>5166</th>\n",
       "      <td>ham</td>\n",
       "      <td>Subject: put the 10 on the ft\\r\\nthe transport...</td>\n",
       "    </tr>\n",
       "    <tr>\n",
       "      <th>5167</th>\n",
       "      <td>ham</td>\n",
       "      <td>Subject: 3 / 4 / 2000 and following noms\\r\\nhp...</td>\n",
       "    </tr>\n",
       "    <tr>\n",
       "      <th>5168</th>\n",
       "      <td>ham</td>\n",
       "      <td>Subject: calpine daily gas nomination\\r\\n&gt;\\r\\n...</td>\n",
       "    </tr>\n",
       "    <tr>\n",
       "      <th>5169</th>\n",
       "      <td>ham</td>\n",
       "      <td>Subject: industrial worksheets for august 2000...</td>\n",
       "    </tr>\n",
       "    <tr>\n",
       "      <th>5170</th>\n",
       "      <td>spam</td>\n",
       "      <td>Subject: important online banking alert\\r\\ndea...</td>\n",
       "    </tr>\n",
       "  </tbody>\n",
       "</table>\n",
       "<p>5171 rows × 2 columns</p>\n",
       "</div>"
      ],
      "text/plain": [
       "     label                                               text\n",
       "0      ham  Subject: enron methanol ; meter # : 988291\\r\\n...\n",
       "1      ham  Subject: hpl nom for january 9 , 2001\\r\\n( see...\n",
       "2      ham  Subject: neon retreat\\r\\nho ho ho , we ' re ar...\n",
       "3     spam  Subject: photoshop , windows , office . cheap ...\n",
       "4      ham  Subject: re : indian springs\\r\\nthis deal is t...\n",
       "...    ...                                                ...\n",
       "5166   ham  Subject: put the 10 on the ft\\r\\nthe transport...\n",
       "5167   ham  Subject: 3 / 4 / 2000 and following noms\\r\\nhp...\n",
       "5168   ham  Subject: calpine daily gas nomination\\r\\n>\\r\\n...\n",
       "5169   ham  Subject: industrial worksheets for august 2000...\n",
       "5170  spam  Subject: important online banking alert\\r\\ndea...\n",
       "\n",
       "[5171 rows x 2 columns]"
      ]
     },
     "execution_count": 20,
     "metadata": {},
     "output_type": "execute_result"
    }
   ],
   "source": [
    "df_spam"
   ]
  },
  {
   "cell_type": "code",
   "execution_count": 21,
   "metadata": {},
   "outputs": [],
   "source": [
    "df_spam_subset = subset(df_spam, 10,\"label\")"
   ]
  },
  {
   "cell_type": "code",
   "execution_count": 22,
   "metadata": {},
   "outputs": [
    {
     "data": {
      "text/html": [
       "<div>\n",
       "<style scoped>\n",
       "    .dataframe tbody tr th:only-of-type {\n",
       "        vertical-align: middle;\n",
       "    }\n",
       "\n",
       "    .dataframe tbody tr th {\n",
       "        vertical-align: top;\n",
       "    }\n",
       "\n",
       "    .dataframe thead th {\n",
       "        text-align: right;\n",
       "    }\n",
       "</style>\n",
       "<table border=\"1\" class=\"dataframe\">\n",
       "  <thead>\n",
       "    <tr style=\"text-align: right;\">\n",
       "      <th></th>\n",
       "      <th>label</th>\n",
       "      <th>text</th>\n",
       "    </tr>\n",
       "  </thead>\n",
       "  <tbody>\n",
       "    <tr>\n",
       "      <th>0</th>\n",
       "      <td>ham</td>\n",
       "      <td>Subject: mobil beaumont - marol\\r\\njust want t...</td>\n",
       "    </tr>\n",
       "    <tr>\n",
       "      <th>1</th>\n",
       "      <td>ham</td>\n",
       "      <td>Subject: tenaska iv texas partners , ltd .\\r\\n...</td>\n",
       "    </tr>\n",
       "    <tr>\n",
       "      <th>2</th>\n",
       "      <td>ham</td>\n",
       "      <td>Subject: fortune most admired ranking\\r\\ncongr...</td>\n",
       "    </tr>\n",
       "    <tr>\n",
       "      <th>3</th>\n",
       "      <td>ham</td>\n",
       "      <td>Subject: re : evergreen deals\\r\\nlook at comme...</td>\n",
       "    </tr>\n",
       "    <tr>\n",
       "      <th>4</th>\n",
       "      <td>ham</td>\n",
       "      <td>Subject: re : nom change - effective oct 26 , ...</td>\n",
       "    </tr>\n",
       "    <tr>\n",
       "      <th>5</th>\n",
       "      <td>ham</td>\n",
       "      <td>Subject: lyondell - - # 1063\\r\\nthe gas looks ...</td>\n",
       "    </tr>\n",
       "    <tr>\n",
       "      <th>6</th>\n",
       "      <td>ham</td>\n",
       "      <td>Subject: hpl / enron nom . for 11 / 01 / 00\\r\\...</td>\n",
       "    </tr>\n",
       "    <tr>\n",
       "      <th>7</th>\n",
       "      <td>ham</td>\n",
       "      <td>Subject: fw : fw : conoco - big cowboy\\r\\nhere...</td>\n",
       "    </tr>\n",
       "    <tr>\n",
       "      <th>8</th>\n",
       "      <td>ham</td>\n",
       "      <td>Subject: entex contact list\\r\\n1 / 12 / 00\\r\\n...</td>\n",
       "    </tr>\n",
       "    <tr>\n",
       "      <th>9</th>\n",
       "      <td>ham</td>\n",
       "      <td>Subject: tenaska iv\\r\\ndarren :\\r\\nplease chan...</td>\n",
       "    </tr>\n",
       "    <tr>\n",
       "      <th>10</th>\n",
       "      <td>spam</td>\n",
       "      <td>Subject: transfer manager vacancy\\r\\nsecondary...</td>\n",
       "    </tr>\n",
       "    <tr>\n",
       "      <th>11</th>\n",
       "      <td>spam</td>\n",
       "      <td>Subject: i found something !\\r\\nfinally !\\r\\ni...</td>\n",
       "    </tr>\n",
       "    <tr>\n",
       "      <th>12</th>\n",
       "      <td>spam</td>\n",
       "      <td>Subject: over 160 fda approved meds\\r\\n% rnd _...</td>\n",
       "    </tr>\n",
       "    <tr>\n",
       "      <th>13</th>\n",
       "      <td>spam</td>\n",
       "      <td>Subject: approval no . 09110129\\r\\nhello ,\\r\\n...</td>\n",
       "    </tr>\n",
       "    <tr>\n",
       "      <th>14</th>\n",
       "      <td>spam</td>\n",
       "      <td>Subject: hi\\r\\napology sorry company bent , su...</td>\n",
       "    </tr>\n",
       "    <tr>\n",
       "      <th>15</th>\n",
       "      <td>spam</td>\n",
       "      <td>Subject: fw : fw : life insurance for your lif...</td>\n",
       "    </tr>\n",
       "    <tr>\n",
       "      <th>16</th>\n",
       "      <td>spam</td>\n",
       "      <td>Subject: meet women in your area that want to ...</td>\n",
       "    </tr>\n",
       "    <tr>\n",
       "      <th>17</th>\n",
       "      <td>spam</td>\n",
       "      <td>Subject: re : oem photoshop , photoshop , font...</td>\n",
       "    </tr>\n",
       "    <tr>\n",
       "      <th>18</th>\n",
       "      <td>spam</td>\n",
       "      <td>Subject: online pharmaip\\r\\ndo you want a inex...</td>\n",
       "    </tr>\n",
       "    <tr>\n",
       "      <th>19</th>\n",
       "      <td>spam</td>\n",
       "      <td>Subject: new municipal toxic emmissions report...</td>\n",
       "    </tr>\n",
       "  </tbody>\n",
       "</table>\n",
       "</div>"
      ],
      "text/plain": [
       "   label                                               text\n",
       "0    ham  Subject: mobil beaumont - marol\\r\\njust want t...\n",
       "1    ham  Subject: tenaska iv texas partners , ltd .\\r\\n...\n",
       "2    ham  Subject: fortune most admired ranking\\r\\ncongr...\n",
       "3    ham  Subject: re : evergreen deals\\r\\nlook at comme...\n",
       "4    ham  Subject: re : nom change - effective oct 26 , ...\n",
       "5    ham  Subject: lyondell - - # 1063\\r\\nthe gas looks ...\n",
       "6    ham  Subject: hpl / enron nom . for 11 / 01 / 00\\r\\...\n",
       "7    ham  Subject: fw : fw : conoco - big cowboy\\r\\nhere...\n",
       "8    ham  Subject: entex contact list\\r\\n1 / 12 / 00\\r\\n...\n",
       "9    ham  Subject: tenaska iv\\r\\ndarren :\\r\\nplease chan...\n",
       "10  spam  Subject: transfer manager vacancy\\r\\nsecondary...\n",
       "11  spam  Subject: i found something !\\r\\nfinally !\\r\\ni...\n",
       "12  spam  Subject: over 160 fda approved meds\\r\\n% rnd _...\n",
       "13  spam  Subject: approval no . 09110129\\r\\nhello ,\\r\\n...\n",
       "14  spam  Subject: hi\\r\\napology sorry company bent , su...\n",
       "15  spam  Subject: fw : fw : life insurance for your lif...\n",
       "16  spam  Subject: meet women in your area that want to ...\n",
       "17  spam  Subject: re : oem photoshop , photoshop , font...\n",
       "18  spam  Subject: online pharmaip\\r\\ndo you want a inex...\n",
       "19  spam  Subject: new municipal toxic emmissions report..."
      ]
     },
     "execution_count": 22,
     "metadata": {},
     "output_type": "execute_result"
    }
   ],
   "source": [
    "df_spam_subset"
   ]
  },
  {
   "cell_type": "code",
   "execution_count": 28,
   "metadata": {},
   "outputs": [
    {
     "name": "stdout",
     "output_type": "stream",
     "text": [
      "Class = ham, Responce = ham\n",
      "Class = ham, Responce = ham\n",
      "Class = ham, Responce = ham\n",
      "Class = ham, Responce = ham\n",
      "Class = ham, Responce = ham\n",
      "Class = ham, Responce = ham\n",
      "Class = ham, Responce = ham\n",
      "Class = ham, Responce = ham\n",
      "Class = ham, Responce = ham\n",
      "Class = ham, Responce = ham\n",
      "Class = spam, Responce = spam\n",
      "Class = spam, Responce = spam\n",
      "Class = spam, Responce = spam\n",
      "Class = spam, Responce = spam\n",
      "Class = spam, Responce = spam\n",
      "Class = spam, Responce = spam\n",
      "Class = spam, Responce = spam\n",
      "Class = spam, Responce = spam\n",
      "Class = spam, Responce = spam\n",
      "Class = spam, Responce = spam\n",
      "The accuracy of the model is: 1.0 and cost: 0.0080125 and execution time: 15.57274055480957\n"
     ]
    }
   ],
   "source": [
    "TP = 0\n",
    "Ges = len(df_spam_subset)\n",
    "ges_len_input = 0\n",
    "ges_len_responce = 0\n",
    "elapsed_time_ges = 0\n",
    "# Iterieren über die \"Text\"-Spalte und Drucken jedes Eintrags\n",
    "for index,text_entry in enumerate(df_spam_subset['text']):\n",
    "    if 'gpt'in llm:\n",
    "        len_input = num_tokens_from_string(text_entry, llm)\n",
    "        ges_len_input += len_input\n",
    "    else:\n",
    "        len_input = num_tokens_from_string(text_entry, \"gpt-3.5-turbo\")\n",
    "        ges_len_responce = 0\n",
    "    if len_input>4097:\n",
    "        text_entry = text_entry[:-int((1-((4097/len_input)-0.05))*len(text_entry))]\n",
    "\n",
    "    cat = df_spam_subset[\"label\"].iloc[index]\n",
    "    #ausführung Modell + Zeitstoppen\n",
    "    start_time = time.time()\n",
    "    responce = generate_gpt_response(text_entry)\n",
    "    end_time = time.time()\n",
    "    elapsed_time = end_time - start_time\n",
    "    elapsed_time_ges += elapsed_time\n",
    "\n",
    "    if 'gpt'in llm:\n",
    "        len_output_tokens = num_tokens_from_string(responce, llm)\n",
    "        ges_len_responce += len_output_tokens\n",
    "    else:\n",
    "        ges_len_responce = 0\n",
    "    print(f\"Class = {cat}, Responce = {responce}\")\n",
    "    if cat == responce:\n",
    "        TP+=1\n",
    "kosten = kostenrechner(ges_len_input, ges_len_responce)\n",
    "Acc = TP/Ges\n",
    "print(f\"The accuracy of the model is: {Acc} and cost: {kosten} and execution time: {elapsed_time_ges}\")\n"
   ]
  },
  {
   "cell_type": "code",
   "execution_count": null,
   "metadata": {},
   "outputs": [],
   "source": [
    "# Liste zum Speichern der ausgewählten DataFrames\n",
    "dfs = []\n",
    "\n",
    "# Gruppieren nach 'Kategorie' und nehmen von 5 Stichproben für jede Gruppe\n",
    "for name, group in df_spam.groupby('Kategorie'):\n",
    "    dfs.append(group.sample(min(len(group), 5)))\n",
    "\n",
    "# Kombinieren aller gesammelten DataFrames\n",
    "subset_spam_df = pd.concat(dfs)"
   ]
  }
 ],
 "metadata": {
  "kernelspec": {
   "display_name": "DTC",
   "language": "python",
   "name": "python3"
  },
  "language_info": {
   "codemirror_mode": {
    "name": "ipython",
    "version": 3
   },
   "file_extension": ".py",
   "mimetype": "text/x-python",
   "name": "python",
   "nbconvert_exporter": "python",
   "pygments_lexer": "ipython3",
   "version": "3.10.13"
  },
  "orig_nbformat": 4
 },
 "nbformat": 4,
 "nbformat_minor": 2
}
